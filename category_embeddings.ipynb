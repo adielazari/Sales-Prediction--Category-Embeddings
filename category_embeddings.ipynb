{
  "nbformat": 4,
  "nbformat_minor": 0,
  "metadata": {
    "colab": {
      "name": "ategory embeddings.ipynb",
      "provenance": []
    },
    "kernelspec": {
      "name": "python3",
      "display_name": "Python 3"
    },
    "accelerator": "GPU"
  },
  "cells": [
    {
      "cell_type": "code",
      "metadata": {
        "id": "uAgdcJf1xmlp",
        "colab_type": "code",
        "colab": {}
      },
      "source": [
        "import pandas as pd\n",
        "import numpy as np\n",
        "import datetime\n",
        "import matplotlib.pyplot as plt\n",
        "%matplotlib inline\n"
      ],
      "execution_count": 0,
      "outputs": []
    },
    {
      "cell_type": "code",
      "metadata": {
        "id": "_evDNuKnxwCJ",
        "colab_type": "code",
        "colab": {
          "base_uri": "https://localhost:8080/",
          "height": 33
        },
        "outputId": "16d50fdc-3322-4c3a-f2d5-8b7ad5647ac4"
      },
      "source": [
        "from google.colab import drive\n",
        "drive.mount('/content/drive')"
      ],
      "execution_count": 3,
      "outputs": [
        {
          "output_type": "stream",
          "text": [
            "Drive already mounted at /content/drive; to attempt to forcibly remount, call drive.mount(\"/content/drive\", force_remount=True).\n"
          ],
          "name": "stdout"
        }
      ]
    },
    {
      "cell_type": "code",
      "metadata": {
        "id": "AmVz5ro4xsQC",
        "colab_type": "code",
        "colab": {}
      },
      "source": [
        "data = pd.read_csv('/content/drive/My Drive/assignment 2/Data/sales_train.csv')\n",
        "test = pd.read_csv('/content/drive/My Drive/assignment 2/Data/test.csv')\n",
        "submission = pd.read_csv('/content/drive/My Drive/assignment 2/Data/sample_submission.csv')\n",
        "items = pd.read_csv('/content/drive/My Drive/assignment 2/Data/items.csv')\n",
        "item_cats = pd.read_csv('/content/drive/My Drive/assignment 2/Data/item_categories.csv')\n",
        "shops = pd.read_csv('/content/drive/My Drive/assignment 2/Data/shops.csv')"
      ],
      "execution_count": 0,
      "outputs": []
    },
    {
      "cell_type": "code",
      "metadata": {
        "id": "P8MobbnNzDFp",
        "colab_type": "code",
        "colab": {
          "base_uri": "https://localhost:8080/",
          "height": 83
        },
        "outputId": "8fd1d996-5cb0-4ec7-9808-9936b8dc6430"
      },
      "source": [
        "print ('Data Set') \n",
        "print(data.shape)\n",
        "\n",
        "print ('Test Set') \n",
        "print(test.shape)\n"
      ],
      "execution_count": 6,
      "outputs": [
        {
          "output_type": "stream",
          "text": [
            "Data Set\n",
            "(2935849, 6)\n",
            "Test Set\n",
            "(214200, 3)\n"
          ],
          "name": "stdout"
        }
      ]
    },
    {
      "cell_type": "code",
      "metadata": {
        "id": "c0ogFQFxzEC2",
        "colab_type": "code",
        "colab": {
          "base_uri": "https://localhost:8080/",
          "height": 197
        },
        "outputId": "5bc51ce9-9fc2-4d18-88f1-483c9ed590f7"
      },
      "source": [
        "data['date'] = pd.to_datetime(data['date'], format='%d.%m.%Y')\n",
        "data['month'] = data['date'].dt.month\n",
        "data['year'] = data['date'].dt.year\n",
        "\n",
        "data = data.drop(['date', 'item_price'], axis=1)\n",
        "data = data.groupby([c for c in data.columns if c not in ['item_cnt_day']], as_index=False)[['item_cnt_day']].sum()\n",
        "data = data.rename(columns={'item_cnt_day':'item_cnt_month'})\n",
        "\n",
        "data.head()"
      ],
      "execution_count": 5,
      "outputs": [
        {
          "output_type": "execute_result",
          "data": {
            "text/html": [
              "<div>\n",
              "<style scoped>\n",
              "    .dataframe tbody tr th:only-of-type {\n",
              "        vertical-align: middle;\n",
              "    }\n",
              "\n",
              "    .dataframe tbody tr th {\n",
              "        vertical-align: top;\n",
              "    }\n",
              "\n",
              "    .dataframe thead th {\n",
              "        text-align: right;\n",
              "    }\n",
              "</style>\n",
              "<table border=\"1\" class=\"dataframe\">\n",
              "  <thead>\n",
              "    <tr style=\"text-align: right;\">\n",
              "      <th></th>\n",
              "      <th>date_block_num</th>\n",
              "      <th>shop_id</th>\n",
              "      <th>item_id</th>\n",
              "      <th>month</th>\n",
              "      <th>year</th>\n",
              "      <th>item_cnt_month</th>\n",
              "    </tr>\n",
              "  </thead>\n",
              "  <tbody>\n",
              "    <tr>\n",
              "      <th>0</th>\n",
              "      <td>0</td>\n",
              "      <td>0</td>\n",
              "      <td>32</td>\n",
              "      <td>1</td>\n",
              "      <td>2013</td>\n",
              "      <td>6.0</td>\n",
              "    </tr>\n",
              "    <tr>\n",
              "      <th>1</th>\n",
              "      <td>0</td>\n",
              "      <td>0</td>\n",
              "      <td>33</td>\n",
              "      <td>1</td>\n",
              "      <td>2013</td>\n",
              "      <td>3.0</td>\n",
              "    </tr>\n",
              "    <tr>\n",
              "      <th>2</th>\n",
              "      <td>0</td>\n",
              "      <td>0</td>\n",
              "      <td>35</td>\n",
              "      <td>1</td>\n",
              "      <td>2013</td>\n",
              "      <td>1.0</td>\n",
              "    </tr>\n",
              "    <tr>\n",
              "      <th>3</th>\n",
              "      <td>0</td>\n",
              "      <td>0</td>\n",
              "      <td>43</td>\n",
              "      <td>1</td>\n",
              "      <td>2013</td>\n",
              "      <td>1.0</td>\n",
              "    </tr>\n",
              "    <tr>\n",
              "      <th>4</th>\n",
              "      <td>0</td>\n",
              "      <td>0</td>\n",
              "      <td>51</td>\n",
              "      <td>1</td>\n",
              "      <td>2013</td>\n",
              "      <td>2.0</td>\n",
              "    </tr>\n",
              "  </tbody>\n",
              "</table>\n",
              "</div>"
            ],
            "text/plain": [
              "   date_block_num  shop_id  item_id  month  year  item_cnt_month\n",
              "0               0        0       32      1  2013             6.0\n",
              "1               0        0       33      1  2013             3.0\n",
              "2               0        0       35      1  2013             1.0\n",
              "3               0        0       43      1  2013             1.0\n",
              "4               0        0       51      1  2013             2.0"
            ]
          },
          "metadata": {
            "tags": []
          },
          "execution_count": 5
        }
      ]
    },
    {
      "cell_type": "code",
      "metadata": {
        "id": "xJHGSEw6zGQm",
        "colab_type": "code",
        "colab": {
          "base_uri": "https://localhost:8080/",
          "height": 281
        },
        "outputId": "57200e1d-0316-458a-e758-725ad496bfba"
      },
      "source": [
        "shop_item_mean = data[['shop_id', 'item_id', 'item_cnt_month']].groupby(['shop_id', 'item_id'], as_index=False)[['item_cnt_month']].mean()\n",
        "shop_item_mean = shop_item_mean.rename(columns={'item_cnt_month':'item_cnt_month_mean'})\n",
        "shop_prev_month = data[data['date_block_num'] == 33][['shop_id', 'item_id', 'item_cnt_month']]\n",
        "shop_prev_month = shop_prev_month.rename(columns={'item_cnt_month':'item_cnt_prev_mean'})\n",
        "data = pd.merge(data, shop_prev_month, how='left', on=['shop_id', 'item_id']).fillna(0.)\n",
        "data = pd.merge(data, items, how='left', on='item_id')\n",
        "data = pd.merge(data, item_cats, how='left', on='item_category_id')\n",
        "data = pd.merge(data, shops, how='left', on='shop_id')\n",
        "data.head()"
      ],
      "execution_count": 6,
      "outputs": [
        {
          "output_type": "execute_result",
          "data": {
            "text/html": [
              "<div>\n",
              "<style scoped>\n",
              "    .dataframe tbody tr th:only-of-type {\n",
              "        vertical-align: middle;\n",
              "    }\n",
              "\n",
              "    .dataframe tbody tr th {\n",
              "        vertical-align: top;\n",
              "    }\n",
              "\n",
              "    .dataframe thead th {\n",
              "        text-align: right;\n",
              "    }\n",
              "</style>\n",
              "<table border=\"1\" class=\"dataframe\">\n",
              "  <thead>\n",
              "    <tr style=\"text-align: right;\">\n",
              "      <th></th>\n",
              "      <th>date_block_num</th>\n",
              "      <th>shop_id</th>\n",
              "      <th>item_id</th>\n",
              "      <th>month</th>\n",
              "      <th>year</th>\n",
              "      <th>item_cnt_month</th>\n",
              "      <th>item_cnt_prev_mean</th>\n",
              "      <th>item_name</th>\n",
              "      <th>item_category_id</th>\n",
              "      <th>item_category_name</th>\n",
              "      <th>shop_name</th>\n",
              "    </tr>\n",
              "  </thead>\n",
              "  <tbody>\n",
              "    <tr>\n",
              "      <th>0</th>\n",
              "      <td>0</td>\n",
              "      <td>0</td>\n",
              "      <td>32</td>\n",
              "      <td>1</td>\n",
              "      <td>2013</td>\n",
              "      <td>6.0</td>\n",
              "      <td>0.0</td>\n",
              "      <td>1+1</td>\n",
              "      <td>40</td>\n",
              "      <td>Кино - DVD</td>\n",
              "      <td>!Якутск Орджоникидзе, 56 фран</td>\n",
              "    </tr>\n",
              "    <tr>\n",
              "      <th>1</th>\n",
              "      <td>0</td>\n",
              "      <td>0</td>\n",
              "      <td>33</td>\n",
              "      <td>1</td>\n",
              "      <td>2013</td>\n",
              "      <td>3.0</td>\n",
              "      <td>0.0</td>\n",
              "      <td>1+1 (BD)</td>\n",
              "      <td>37</td>\n",
              "      <td>Кино - Blu-Ray</td>\n",
              "      <td>!Якутск Орджоникидзе, 56 фран</td>\n",
              "    </tr>\n",
              "    <tr>\n",
              "      <th>2</th>\n",
              "      <td>0</td>\n",
              "      <td>0</td>\n",
              "      <td>35</td>\n",
              "      <td>1</td>\n",
              "      <td>2013</td>\n",
              "      <td>1.0</td>\n",
              "      <td>0.0</td>\n",
              "      <td>10 ЛЕТ СПУСТЯ</td>\n",
              "      <td>40</td>\n",
              "      <td>Кино - DVD</td>\n",
              "      <td>!Якутск Орджоникидзе, 56 фран</td>\n",
              "    </tr>\n",
              "    <tr>\n",
              "      <th>3</th>\n",
              "      <td>0</td>\n",
              "      <td>0</td>\n",
              "      <td>43</td>\n",
              "      <td>1</td>\n",
              "      <td>2013</td>\n",
              "      <td>1.0</td>\n",
              "      <td>0.0</td>\n",
              "      <td>100 МИЛЛИОНОВ ЕВРО</td>\n",
              "      <td>40</td>\n",
              "      <td>Кино - DVD</td>\n",
              "      <td>!Якутск Орджоникидзе, 56 фран</td>\n",
              "    </tr>\n",
              "    <tr>\n",
              "      <th>4</th>\n",
              "      <td>0</td>\n",
              "      <td>0</td>\n",
              "      <td>51</td>\n",
              "      <td>1</td>\n",
              "      <td>2013</td>\n",
              "      <td>2.0</td>\n",
              "      <td>0.0</td>\n",
              "      <td>100 лучших произведений классики (mp3-CD) (Dig...</td>\n",
              "      <td>57</td>\n",
              "      <td>Музыка - MP3</td>\n",
              "      <td>!Якутск Орджоникидзе, 56 фран</td>\n",
              "    </tr>\n",
              "  </tbody>\n",
              "</table>\n",
              "</div>"
            ],
            "text/plain": [
              "   date_block_num  shop_id  ...  item_category_name                      shop_name\n",
              "0               0        0  ...          Кино - DVD  !Якутск Орджоникидзе, 56 фран\n",
              "1               0        0  ...      Кино - Blu-Ray  !Якутск Орджоникидзе, 56 фран\n",
              "2               0        0  ...          Кино - DVD  !Якутск Орджоникидзе, 56 фран\n",
              "3               0        0  ...          Кино - DVD  !Якутск Орджоникидзе, 56 фран\n",
              "4               0        0  ...        Музыка - MP3  !Якутск Орджоникидзе, 56 фран\n",
              "\n",
              "[5 rows x 11 columns]"
            ]
          },
          "metadata": {
            "tags": []
          },
          "execution_count": 6
        }
      ]
    },
    {
      "cell_type": "code",
      "metadata": {
        "id": "XJlr8vzmzQBz",
        "colab_type": "code",
        "colab": {
          "base_uri": "https://localhost:8080/",
          "height": 297
        },
        "outputId": "57620e0a-6ae2-4468-f5c0-70051d3b0d65"
      },
      "source": [
        "test['month'] = 11\n",
        "test['year'] = 2015\n",
        "test['date_block_num']=34\n",
        "test = pd.merge(test, shop_item_mean, how='left', on=['shop_id', 'item_id']).fillna(0.)\n",
        "test = pd.merge(test, shop_prev_month, how='left', on=['shop_id', 'item_id']).fillna(0.)\n",
        "test = pd.merge(test, items, how='left', on='item_id')\n",
        "test = pd.merge(test, item_cats, how='left', on='item_category_id')\n",
        "test = pd.merge(test, shops, how='left', on='shop_id')\n",
        "test['item_cnt_month'] = 0.\n",
        "test.head()"
      ],
      "execution_count": 7,
      "outputs": [
        {
          "output_type": "execute_result",
          "data": {
            "text/html": [
              "<div>\n",
              "<style scoped>\n",
              "    .dataframe tbody tr th:only-of-type {\n",
              "        vertical-align: middle;\n",
              "    }\n",
              "\n",
              "    .dataframe tbody tr th {\n",
              "        vertical-align: top;\n",
              "    }\n",
              "\n",
              "    .dataframe thead th {\n",
              "        text-align: right;\n",
              "    }\n",
              "</style>\n",
              "<table border=\"1\" class=\"dataframe\">\n",
              "  <thead>\n",
              "    <tr style=\"text-align: right;\">\n",
              "      <th></th>\n",
              "      <th>ID</th>\n",
              "      <th>shop_id</th>\n",
              "      <th>item_id</th>\n",
              "      <th>month</th>\n",
              "      <th>year</th>\n",
              "      <th>date_block_num</th>\n",
              "      <th>item_cnt_month_mean</th>\n",
              "      <th>item_cnt_prev_mean</th>\n",
              "      <th>item_name</th>\n",
              "      <th>item_category_id</th>\n",
              "      <th>item_category_name</th>\n",
              "      <th>shop_name</th>\n",
              "      <th>item_cnt_month</th>\n",
              "    </tr>\n",
              "  </thead>\n",
              "  <tbody>\n",
              "    <tr>\n",
              "      <th>0</th>\n",
              "      <td>0</td>\n",
              "      <td>5</td>\n",
              "      <td>5037</td>\n",
              "      <td>11</td>\n",
              "      <td>2015</td>\n",
              "      <td>34</td>\n",
              "      <td>1.444444</td>\n",
              "      <td>0.0</td>\n",
              "      <td>NHL 15 [PS3, русские субтитры]</td>\n",
              "      <td>19</td>\n",
              "      <td>Игры - PS3</td>\n",
              "      <td>Вологда ТРЦ \"Мармелад\"</td>\n",
              "      <td>0.0</td>\n",
              "    </tr>\n",
              "    <tr>\n",
              "      <th>1</th>\n",
              "      <td>1</td>\n",
              "      <td>5</td>\n",
              "      <td>5320</td>\n",
              "      <td>11</td>\n",
              "      <td>2015</td>\n",
              "      <td>34</td>\n",
              "      <td>0.000000</td>\n",
              "      <td>0.0</td>\n",
              "      <td>ONE DIRECTION  Made In The A.M.</td>\n",
              "      <td>55</td>\n",
              "      <td>Музыка - CD локального производства</td>\n",
              "      <td>Вологда ТРЦ \"Мармелад\"</td>\n",
              "      <td>0.0</td>\n",
              "    </tr>\n",
              "    <tr>\n",
              "      <th>2</th>\n",
              "      <td>2</td>\n",
              "      <td>5</td>\n",
              "      <td>5233</td>\n",
              "      <td>11</td>\n",
              "      <td>2015</td>\n",
              "      <td>34</td>\n",
              "      <td>2.000000</td>\n",
              "      <td>1.0</td>\n",
              "      <td>Need for Speed Rivals (Essentials) [PS3, русск...</td>\n",
              "      <td>19</td>\n",
              "      <td>Игры - PS3</td>\n",
              "      <td>Вологда ТРЦ \"Мармелад\"</td>\n",
              "      <td>0.0</td>\n",
              "    </tr>\n",
              "    <tr>\n",
              "      <th>3</th>\n",
              "      <td>3</td>\n",
              "      <td>5</td>\n",
              "      <td>5232</td>\n",
              "      <td>11</td>\n",
              "      <td>2015</td>\n",
              "      <td>34</td>\n",
              "      <td>1.000000</td>\n",
              "      <td>0.0</td>\n",
              "      <td>Need for Speed Rivals (Classics) [Xbox 360, ру...</td>\n",
              "      <td>23</td>\n",
              "      <td>Игры - XBOX 360</td>\n",
              "      <td>Вологда ТРЦ \"Мармелад\"</td>\n",
              "      <td>0.0</td>\n",
              "    </tr>\n",
              "    <tr>\n",
              "      <th>4</th>\n",
              "      <td>4</td>\n",
              "      <td>5</td>\n",
              "      <td>5268</td>\n",
              "      <td>11</td>\n",
              "      <td>2015</td>\n",
              "      <td>34</td>\n",
              "      <td>0.000000</td>\n",
              "      <td>0.0</td>\n",
              "      <td>Need for Speed [PS4, русская версия]</td>\n",
              "      <td>20</td>\n",
              "      <td>Игры - PS4</td>\n",
              "      <td>Вологда ТРЦ \"Мармелад\"</td>\n",
              "      <td>0.0</td>\n",
              "    </tr>\n",
              "  </tbody>\n",
              "</table>\n",
              "</div>"
            ],
            "text/plain": [
              "   ID  shop_id  ...               shop_name  item_cnt_month\n",
              "0   0        5  ...  Вологда ТРЦ \"Мармелад\"             0.0\n",
              "1   1        5  ...  Вологда ТРЦ \"Мармелад\"             0.0\n",
              "2   2        5  ...  Вологда ТРЦ \"Мармелад\"             0.0\n",
              "3   3        5  ...  Вологда ТРЦ \"Мармелад\"             0.0\n",
              "4   4        5  ...  Вологда ТРЦ \"Мармелад\"             0.0\n",
              "\n",
              "[5 rows x 13 columns]"
            ]
          },
          "metadata": {
            "tags": []
          },
          "execution_count": 7
        }
      ]
    },
    {
      "cell_type": "code",
      "metadata": {
        "id": "UrNU9jHMzSi5",
        "colab_type": "code",
        "colab": {}
      },
      "source": [
        "from sklearn import preprocessing\n",
        "for c in ['shop_name', 'item_name', 'item_category_name']:\n",
        "    lbl = preprocessing.LabelEncoder()\n",
        "    lbl.fit(list(data[c].unique())+list(test[c].unique()))\n",
        "    data[c] = lbl.transform(data[c].astype(str))\n",
        "    test[c] = lbl.transform(test[c].astype(str))"
      ],
      "execution_count": 0,
      "outputs": []
    },
    {
      "cell_type": "code",
      "metadata": {
        "id": "AzOrYEI0zVXi",
        "colab_type": "code",
        "colab": {}
      },
      "source": [
        "col = [c for c in data.columns if c not in ['item_cnt_month']]\n",
        "x1 = data[data['date_block_num']<33]\n",
        "y1 = x1['item_cnt_month']\n",
        "x1=x1[col]\n",
        "x2 = data[data['date_block_num'] == 33]\n",
        "y2 = x2['item_cnt_month'].to_numpy()\n",
        "x2=x2[col]"
      ],
      "execution_count": 0,
      "outputs": []
    },
    {
      "cell_type": "code",
      "metadata": {
        "id": "4nLtCt48zZg5",
        "colab_type": "code",
        "colab": {}
      },
      "source": [
        "from sklearn.tree import DecisionTreeClassifier\n",
        "clf = DecisionTreeClassifier(random_state=0).fit(x1,y1) \n",
        "pred = clf.predict(x2)"
      ],
      "execution_count": 0,
      "outputs": []
    },
    {
      "cell_type": "code",
      "metadata": {
        "id": "l8veqkfNzbud",
        "colab_type": "code",
        "colab": {
          "base_uri": "https://localhost:8080/",
          "height": 33
        },
        "outputId": "5d40b625-c7a3-4b03-a3ac-cebe75a4374a"
      },
      "source": [
        "from sklearn.metrics import accuracy_score\n",
        "accuracy_score(y2, pred)"
      ],
      "execution_count": 13,
      "outputs": [
        {
          "output_type": "execute_result",
          "data": {
            "text/plain": [
              "0.525736576702293"
            ]
          },
          "metadata": {
            "tags": []
          },
          "execution_count": 13
        }
      ]
    },
    {
      "cell_type": "code",
      "metadata": {
        "id": "dwY3OYfGzfuG",
        "colab_type": "code",
        "colab": {
          "base_uri": "https://localhost:8080/",
          "height": 79
        },
        "outputId": "35259d83-e0ae-4bac-f991-02ba5426ffa9"
      },
      "source": [
        "from keras.models import Model\n",
        "from keras.layers import *\n",
        "from keras.callbacks import *\n",
        "from keras.regularizers import l2\n",
        "from keras.optimizers import *\n",
        "from keras.utils import to_categorical"
      ],
      "execution_count": 9,
      "outputs": [
        {
          "output_type": "stream",
          "text": [
            "Using TensorFlow backend.\n"
          ],
          "name": "stderr"
        },
        {
          "output_type": "display_data",
          "data": {
            "text/html": [
              "<p style=\"color: red;\">\n",
              "The default version of TensorFlow in Colab will soon switch to TensorFlow 2.x.<br>\n",
              "We recommend you <a href=\"https://www.tensorflow.org/guide/migrate\" target=\"_blank\">upgrade</a> now \n",
              "or ensure your notebook will continue to use TensorFlow 1.x via the <code>%tensorflow_version 1.x</code> magic:\n",
              "<a href=\"https://colab.research.google.com/notebooks/tensorflow_version.ipynb\" target=\"_blank\">more info</a>.</p>\n"
            ],
            "text/plain": [
              "<IPython.core.display.HTML object>"
            ]
          },
          "metadata": {
            "tags": []
          }
        }
      ]
    },
    {
      "cell_type": "code",
      "metadata": {
        "id": "wLEgfHU7zj-E",
        "colab_type": "code",
        "colab": {}
      },
      "source": [
        "def create_data(cat_features):\n",
        "    lenUniquFeatures = {}\n",
        "#     little_data = data.sample(frac = 0.4)\n",
        "    X_test = test.loc[:,cat_features].copy()\n",
        "    processed_data = data.loc[:,cat_features].copy()\n",
        "    for cat_feature in cat_features:\n",
        "        feature_inx ={p:i for (i,p) in enumerate(data[cat_feature].unique())}\n",
        "        lenUniquFeatures[cat_feature] = len(feature_inx)\n",
        "        processed_data[cat_feature] = [feature_inx[x] for x in data[cat_feature]]\n",
        "        feature_inx_test ={p:i for (i,p) in enumerate(X_test[cat_feature].unique())}\n",
        "        lenUniquFeatures[cat_feature] = len(feature_inx_test)\n",
        "        X_test[cat_feature] = [feature_inx_test[x] for x in X_test[cat_feature]]\n",
        "    target = data['item_cnt_month'].values\n",
        "    return processed_data, target, X_test, lenUniquFeatures"
      ],
      "execution_count": 0,
      "outputs": []
    },
    {
      "cell_type": "code",
      "metadata": {
        "id": "HINn9Wvkzzgw",
        "colab_type": "code",
        "colab": {}
      },
      "source": [
        "cat_features = ['date_block_num', 'item_id', 'shop_id', 'item_category_id','month', 'year']#,'month_length'\n",
        "processed_data, target, X_test, lenUniquFeatures = create_data(cat_features)"
      ],
      "execution_count": 0,
      "outputs": []
    },
    {
      "cell_type": "code",
      "metadata": {
        "id": "krS-kg5Oz06m",
        "colab_type": "code",
        "colab": {
          "base_uri": "https://localhost:8080/",
          "height": 137
        },
        "outputId": "7deb5f2f-6b03-43dd-cf16-92d051884d22"
      },
      "source": [
        "def build_categorical_inputs(features):\n",
        "    initial_inputs = {}\n",
        "    cat_input_layers={}\n",
        "    for feature in features:         \n",
        "        embedding_size = int(min(np.sqrt(lenUniquFeatures[feature]), 50))\n",
        "        initial_inputs[feature] = Input(shape=(1,),dtype='int64')\n",
        "        embedding_layer = Embedding(lenUniquFeatures[feature], \n",
        "                                    embedding_size,\n",
        "                                    embeddings_regularizer=l2(0.001),\n",
        "                                    input_length=1)(initial_inputs[feature])\n",
        "        cat_input_layers[feature] = Reshape(target_shape=(embedding_size,))(embedding_layer)\n",
        "    return initial_inputs, cat_input_layers\n",
        "initial_inputs, input_layers = build_categorical_inputs(cat_features)"
      ],
      "execution_count": 12,
      "outputs": [
        {
          "output_type": "stream",
          "text": [
            "WARNING:tensorflow:From /usr/local/lib/python3.6/dist-packages/keras/backend/tensorflow_backend.py:66: The name tf.get_default_graph is deprecated. Please use tf.compat.v1.get_default_graph instead.\n",
            "\n",
            "WARNING:tensorflow:From /usr/local/lib/python3.6/dist-packages/keras/backend/tensorflow_backend.py:541: The name tf.placeholder is deprecated. Please use tf.compat.v1.placeholder instead.\n",
            "\n",
            "WARNING:tensorflow:From /usr/local/lib/python3.6/dist-packages/keras/backend/tensorflow_backend.py:4432: The name tf.random_uniform is deprecated. Please use tf.random.uniform instead.\n",
            "\n"
          ],
          "name": "stdout"
        }
      ]
    },
    {
      "cell_type": "code",
      "metadata": {
        "id": "GZKCRDm9znrq",
        "colab_type": "code",
        "colab": {
          "base_uri": "https://localhost:8080/",
          "height": 1000
        },
        "outputId": "6f7280e3-cab2-4de3-b17e-53977cda86cf"
      },
      "source": [
        "x = Concatenate(axis=-1)([layer for layer in input_layers.values()])\n",
        "x = Dropout(0.6)(x)\n",
        "x = Dense(256,activation='relu')(x)\n",
        "x = Dropout(0.6)(x)\n",
        "x = Dense(128,activation='relu')(x)\n",
        "x = Dropout(0.6)(x)\n",
        "x = Dense(64,activation='relu')(x)\n",
        "x = Dense(1)(x)\n",
        "inputs=[input for input in initial_inputs.values()]\n",
        "print (inputs)\n",
        "model = Model(inputs,outputs=x)\n",
        "model.compile(optimizer='adam',loss='mse',metrics=['accuracy'])#optimizer='adam',loss='binary_crossentropy',\n",
        "              \n",
        "model.summary()"
      ],
      "execution_count": 19,
      "outputs": [
        {
          "output_type": "stream",
          "text": [
            "WARNING:tensorflow:From /usr/local/lib/python3.6/dist-packages/keras/backend/tensorflow_backend.py:148: The name tf.placeholder_with_default is deprecated. Please use tf.compat.v1.placeholder_with_default instead.\n",
            "\n",
            "WARNING:tensorflow:From /usr/local/lib/python3.6/dist-packages/keras/backend/tensorflow_backend.py:3733: calling dropout (from tensorflow.python.ops.nn_ops) with keep_prob is deprecated and will be removed in a future version.\n",
            "Instructions for updating:\n",
            "Please use `rate` instead of `keep_prob`. Rate should be set to `rate = 1 - keep_prob`.\n",
            "WARNING:tensorflow:Large dropout rate: 0.6 (>0.5). In TensorFlow 2.x, dropout() uses dropout rate instead of keep_prob. Please ensure that this is intended.\n",
            "WARNING:tensorflow:Large dropout rate: 0.6 (>0.5). In TensorFlow 2.x, dropout() uses dropout rate instead of keep_prob. Please ensure that this is intended.\n",
            "WARNING:tensorflow:Large dropout rate: 0.6 (>0.5). In TensorFlow 2.x, dropout() uses dropout rate instead of keep_prob. Please ensure that this is intended.\n",
            "[<tf.Tensor 'input_1:0' shape=(?, 1) dtype=int64>, <tf.Tensor 'input_2:0' shape=(?, 1) dtype=int64>, <tf.Tensor 'input_3:0' shape=(?, 1) dtype=int64>, <tf.Tensor 'input_4:0' shape=(?, 1) dtype=int64>, <tf.Tensor 'input_5:0' shape=(?, 1) dtype=int64>, <tf.Tensor 'input_6:0' shape=(?, 1) dtype=int64>]\n",
            "WARNING:tensorflow:From /usr/local/lib/python3.6/dist-packages/keras/optimizers.py:793: The name tf.train.Optimizer is deprecated. Please use tf.compat.v1.train.Optimizer instead.\n",
            "\n",
            "Model: \"model_1\"\n",
            "__________________________________________________________________________________________________\n",
            "Layer (type)                    Output Shape         Param #     Connected to                     \n",
            "==================================================================================================\n",
            "input_1 (InputLayer)            (None, 1)            0                                            \n",
            "__________________________________________________________________________________________________\n",
            "input_2 (InputLayer)            (None, 1)            0                                            \n",
            "__________________________________________________________________________________________________\n",
            "input_3 (InputLayer)            (None, 1)            0                                            \n",
            "__________________________________________________________________________________________________\n",
            "input_4 (InputLayer)            (None, 1)            0                                            \n",
            "__________________________________________________________________________________________________\n",
            "input_5 (InputLayer)            (None, 1)            0                                            \n",
            "__________________________________________________________________________________________________\n",
            "input_6 (InputLayer)            (None, 1)            0                                            \n",
            "__________________________________________________________________________________________________\n",
            "embedding_1 (Embedding)         (None, 1, 1)         1           input_1[0][0]                    \n",
            "__________________________________________________________________________________________________\n",
            "embedding_2 (Embedding)         (None, 1, 50)        255000      input_2[0][0]                    \n",
            "__________________________________________________________________________________________________\n",
            "embedding_3 (Embedding)         (None, 1, 6)         252         input_3[0][0]                    \n",
            "__________________________________________________________________________________________________\n",
            "embedding_4 (Embedding)         (None, 1, 7)         434         input_4[0][0]                    \n",
            "__________________________________________________________________________________________________\n",
            "embedding_5 (Embedding)         (None, 1, 1)         1           input_5[0][0]                    \n",
            "__________________________________________________________________________________________________\n",
            "embedding_6 (Embedding)         (None, 1, 1)         1           input_6[0][0]                    \n",
            "__________________________________________________________________________________________________\n",
            "reshape_1 (Reshape)             (None, 1)            0           embedding_1[0][0]                \n",
            "__________________________________________________________________________________________________\n",
            "reshape_2 (Reshape)             (None, 50)           0           embedding_2[0][0]                \n",
            "__________________________________________________________________________________________________\n",
            "reshape_3 (Reshape)             (None, 6)            0           embedding_3[0][0]                \n",
            "__________________________________________________________________________________________________\n",
            "reshape_4 (Reshape)             (None, 7)            0           embedding_4[0][0]                \n",
            "__________________________________________________________________________________________________\n",
            "reshape_5 (Reshape)             (None, 1)            0           embedding_5[0][0]                \n",
            "__________________________________________________________________________________________________\n",
            "reshape_6 (Reshape)             (None, 1)            0           embedding_6[0][0]                \n",
            "__________________________________________________________________________________________________\n",
            "concatenate_2 (Concatenate)     (None, 66)           0           reshape_1[0][0]                  \n",
            "                                                                 reshape_2[0][0]                  \n",
            "                                                                 reshape_3[0][0]                  \n",
            "                                                                 reshape_4[0][0]                  \n",
            "                                                                 reshape_5[0][0]                  \n",
            "                                                                 reshape_6[0][0]                  \n",
            "__________________________________________________________________________________________________\n",
            "dropout_1 (Dropout)             (None, 66)           0           concatenate_2[0][0]              \n",
            "__________________________________________________________________________________________________\n",
            "dense_1 (Dense)                 (None, 256)          17152       dropout_1[0][0]                  \n",
            "__________________________________________________________________________________________________\n",
            "dropout_2 (Dropout)             (None, 256)          0           dense_1[0][0]                    \n",
            "__________________________________________________________________________________________________\n",
            "dense_2 (Dense)                 (None, 128)          32896       dropout_2[0][0]                  \n",
            "__________________________________________________________________________________________________\n",
            "dropout_3 (Dropout)             (None, 128)          0           dense_2[0][0]                    \n",
            "__________________________________________________________________________________________________\n",
            "dense_3 (Dense)                 (None, 64)           8256        dropout_3[0][0]                  \n",
            "__________________________________________________________________________________________________\n",
            "dense_4 (Dense)                 (None, 1)            65          dense_3[0][0]                    \n",
            "==================================================================================================\n",
            "Total params: 314,058\n",
            "Trainable params: 314,058\n",
            "Non-trainable params: 0\n",
            "__________________________________________________________________________________________________\n"
          ],
          "name": "stdout"
        }
      ]
    },
    {
      "cell_type": "code",
      "metadata": {
        "id": "dTNAItXXztRu",
        "colab_type": "code",
        "colab": {
          "base_uri": "https://localhost:8080/",
          "height": 553
        },
        "outputId": "b46db2be-aa8e-4a92-ca63-22a6728e4684"
      },
      "source": [
        "from sklearn.model_selection import KFold,StratifiedKFold\n",
        "from keras.callbacks import *\n",
        "\n",
        "checkpoint_path = os.getcwd()\n",
        "checkpoint_dir = os.path.dirname(checkpoint_path)\n",
        "checkpoint = ModelCheckpoint(filepath='best_model_weights_run1.h5',save_weights_only=True,verbose=1)\n",
        "early_stop = EarlyStopping(monitor='val_loss', patience=3)\n",
        "tensor_board = TensorBoard(log_dir= checkpoint_path)\n",
        "history = History()\n",
        "features = processed_data.columns\n",
        "# kf = StratifiedKFold(n_splits=5,random_state=42)\n",
        "kf = KFold(n_splits=5,random_state=42)\n",
        "for tr_ind,val_ind in kf.split(processed_data,target):\n",
        "    X_train,X_val,y_train,y_val = processed_data.iloc[tr_ind],processed_data.iloc[val_ind],target[tr_ind],target[val_ind]\n",
        "    X_trainA = []\n",
        "    for cat in cat_features:\n",
        "        X_trainA.append(np.array(X_train[cat]).reshape(-1,1))\n",
        "    X_valA = []\n",
        "    for cat in cat_features:\n",
        "        X_valA.append(np.array(X_val[cat]).reshape(-1,1))\n",
        "    history = model.fit(X_trainA,y_train,epochs=3,validation_data=[X_valA,y_val],callbacks=[checkpoint, early_stop],verbose=1) #set_callbacks())\n",
        "    break"
      ],
      "execution_count": 20,
      "outputs": [
        {
          "output_type": "stream",
          "text": [
            "/usr/local/lib/python3.6/dist-packages/sklearn/model_selection/_split.py:296: FutureWarning: Setting a random_state has no effect since shuffle is False. This will raise an error in 0.24. You should leave random_state to its default (None), or set shuffle=True.\n",
            "  FutureWarning\n"
          ],
          "name": "stderr"
        },
        {
          "output_type": "stream",
          "text": [
            "WARNING:tensorflow:From /usr/local/lib/python3.6/dist-packages/keras/backend/tensorflow_backend.py:1033: The name tf.assign_add is deprecated. Please use tf.compat.v1.assign_add instead.\n",
            "\n",
            "WARNING:tensorflow:From /usr/local/lib/python3.6/dist-packages/keras/backend/tensorflow_backend.py:1020: The name tf.assign is deprecated. Please use tf.compat.v1.assign instead.\n",
            "\n",
            "WARNING:tensorflow:From /usr/local/lib/python3.6/dist-packages/keras/backend/tensorflow_backend.py:3005: The name tf.Session is deprecated. Please use tf.compat.v1.Session instead.\n",
            "\n",
            "Train on 1287299 samples, validate on 321825 samples\n",
            "Epoch 1/3\n",
            "WARNING:tensorflow:From /usr/local/lib/python3.6/dist-packages/keras/backend/tensorflow_backend.py:190: The name tf.get_default_session is deprecated. Please use tf.compat.v1.get_default_session instead.\n",
            "\n",
            "WARNING:tensorflow:From /usr/local/lib/python3.6/dist-packages/keras/backend/tensorflow_backend.py:197: The name tf.ConfigProto is deprecated. Please use tf.compat.v1.ConfigProto instead.\n",
            "\n",
            "WARNING:tensorflow:From /usr/local/lib/python3.6/dist-packages/keras/backend/tensorflow_backend.py:207: The name tf.global_variables is deprecated. Please use tf.compat.v1.global_variables instead.\n",
            "\n",
            "WARNING:tensorflow:From /usr/local/lib/python3.6/dist-packages/keras/backend/tensorflow_backend.py:216: The name tf.is_variable_initialized is deprecated. Please use tf.compat.v1.is_variable_initialized instead.\n",
            "\n",
            "WARNING:tensorflow:From /usr/local/lib/python3.6/dist-packages/keras/backend/tensorflow_backend.py:223: The name tf.variables_initializer is deprecated. Please use tf.compat.v1.variables_initializer instead.\n",
            "\n",
            "1287299/1287299 [==============================] - 262s 204us/step - loss: 70.4899 - acc: 0.2427 - val_loss: 20.5897 - val_acc: 0.1416\n",
            "\n",
            "Epoch 00001: saving model to best_model_weights_run1.h5\n",
            "Epoch 2/3\n",
            "1287299/1287299 [==============================] - 253s 196us/step - loss: 68.0929 - acc: 0.2429 - val_loss: 27.2473 - val_acc: 0.0593\n",
            "\n",
            "Epoch 00002: saving model to best_model_weights_run1.h5\n",
            "Epoch 3/3\n",
            "1287299/1287299 [==============================] - 255s 198us/step - loss: 67.3037 - acc: 0.2446 - val_loss: 24.3838 - val_acc: 0.0926\n",
            "\n",
            "Epoch 00003: saving model to best_model_weights_run1.h5\n"
          ],
          "name": "stdout"
        }
      ]
    },
    {
      "cell_type": "code",
      "metadata": {
        "id": "PbH0sSBdz8G9",
        "colab_type": "code",
        "colab": {
          "base_uri": "https://localhost:8080/",
          "height": 137
        },
        "outputId": "ca032c55-a1be-466d-90f1-1cd4f9f6154b"
      },
      "source": [
        "type(history.history)\n",
        "hist= pd.DataFrame(history.history)\n",
        "hist['epoch'] = history.epoch\n",
        "hist"
      ],
      "execution_count": 21,
      "outputs": [
        {
          "output_type": "execute_result",
          "data": {
            "text/html": [
              "<div>\n",
              "<style scoped>\n",
              "    .dataframe tbody tr th:only-of-type {\n",
              "        vertical-align: middle;\n",
              "    }\n",
              "\n",
              "    .dataframe tbody tr th {\n",
              "        vertical-align: top;\n",
              "    }\n",
              "\n",
              "    .dataframe thead th {\n",
              "        text-align: right;\n",
              "    }\n",
              "</style>\n",
              "<table border=\"1\" class=\"dataframe\">\n",
              "  <thead>\n",
              "    <tr style=\"text-align: right;\">\n",
              "      <th></th>\n",
              "      <th>val_loss</th>\n",
              "      <th>val_acc</th>\n",
              "      <th>loss</th>\n",
              "      <th>acc</th>\n",
              "      <th>epoch</th>\n",
              "    </tr>\n",
              "  </thead>\n",
              "  <tbody>\n",
              "    <tr>\n",
              "      <th>0</th>\n",
              "      <td>20.589691</td>\n",
              "      <td>0.141624</td>\n",
              "      <td>70.489942</td>\n",
              "      <td>0.242676</td>\n",
              "      <td>0</td>\n",
              "    </tr>\n",
              "    <tr>\n",
              "      <th>1</th>\n",
              "      <td>27.247338</td>\n",
              "      <td>0.059330</td>\n",
              "      <td>68.092949</td>\n",
              "      <td>0.242890</td>\n",
              "      <td>1</td>\n",
              "    </tr>\n",
              "    <tr>\n",
              "      <th>2</th>\n",
              "      <td>24.383759</td>\n",
              "      <td>0.092594</td>\n",
              "      <td>67.303696</td>\n",
              "      <td>0.244637</td>\n",
              "      <td>2</td>\n",
              "    </tr>\n",
              "  </tbody>\n",
              "</table>\n",
              "</div>"
            ],
            "text/plain": [
              "    val_loss   val_acc       loss       acc  epoch\n",
              "0  20.589691  0.141624  70.489942  0.242676      0\n",
              "1  27.247338  0.059330  68.092949  0.242890      1\n",
              "2  24.383759  0.092594  67.303696  0.244637      2"
            ]
          },
          "metadata": {
            "tags": []
          },
          "execution_count": 21
        }
      ]
    },
    {
      "cell_type": "code",
      "metadata": {
        "id": "tn9x7Y3N0E1G",
        "colab_type": "code",
        "colab": {}
      },
      "source": [
        "cat_features = ['date_block_num', 'item_id', 'shop_id', 'item_category_id','month', 'year','shop_name', 'item_name', 'item_category_name']#,'month_length'\n",
        "processed_data, target, X_test, lenUniquFeatures = create_data(cat_features)\n",
        "moreFeatures = ['shop_name', 'item_name', 'item_category_name']\n",
        "for more in moreFeatures:\n",
        "    initial_inputs[more] = Input(shape=(1,))\n",
        "    input_layers[more] = initial_inputs[more]"
      ],
      "execution_count": 0,
      "outputs": []
    },
    {
      "cell_type": "code",
      "metadata": {
        "id": "lpIHGPr50kuR",
        "colab_type": "code",
        "colab": {
          "base_uri": "https://localhost:8080/",
          "height": 1000
        },
        "outputId": "670ab123-24c1-4b82-f40e-33f2f53b0029"
      },
      "source": [
        "x = Concatenate(axis=-1)([layer for layer in input_layers.values()])\n",
        "x = Dropout(0.6)(x)\n",
        "x = Dense(256,activation='relu')(x)\n",
        "x = Dropout(0.6)(x)\n",
        "x = Dense(128,activation='relu')(x)\n",
        "x = Dropout(0.6)(x)\n",
        "x = Dense(64,activation='relu')(x)\n",
        "x = Dense(1)(x)\n",
        "inputs=[input for input in initial_inputs.values()]\n",
        "model = Model(inputs,outputs=x)\n",
        "model.compile(optimizer='adam',loss='mse',metrics=['accuracy'])\n",
        "model.summary()"
      ],
      "execution_count": 23,
      "outputs": [
        {
          "output_type": "stream",
          "text": [
            "WARNING:tensorflow:Large dropout rate: 0.6 (>0.5). In TensorFlow 2.x, dropout() uses dropout rate instead of keep_prob. Please ensure that this is intended.\n",
            "WARNING:tensorflow:Large dropout rate: 0.6 (>0.5). In TensorFlow 2.x, dropout() uses dropout rate instead of keep_prob. Please ensure that this is intended.\n",
            "Model: \"model_2\"\n",
            "__________________________________________________________________________________________________\n",
            "Layer (type)                    Output Shape         Param #     Connected to                     \n",
            "==================================================================================================\n",
            "input_1 (InputLayer)            (None, 1)            0                                            \n",
            "__________________________________________________________________________________________________\n",
            "input_2 (InputLayer)            (None, 1)            0                                            \n",
            "__________________________________________________________________________________________________\n",
            "input_3 (InputLayer)            (None, 1)            0                                            \n",
            "__________________________________________________________________________________________________\n",
            "input_4 (InputLayer)            (None, 1)            0                                            \n",
            "__________________________________________________________________________________________________\n",
            "input_5 (InputLayer)            (None, 1)            0                                            \n",
            "__________________________________________________________________________________________________\n",
            "input_6 (InputLayer)            (None, 1)            0                                            \n",
            "__________________________________________________________________________________________________\n",
            "embedding_1 (Embedding)         (None, 1, 1)         1           input_1[0][0]                    \n",
            "__________________________________________________________________________________________________\n",
            "embedding_2 (Embedding)         (None, 1, 50)        255000      input_2[0][0]                    \n",
            "__________________________________________________________________________________________________\n",
            "embedding_3 (Embedding)         (None, 1, 6)         252         input_3[0][0]                    \n",
            "__________________________________________________________________________________________________\n",
            "embedding_4 (Embedding)         (None, 1, 7)         434         input_4[0][0]                    \n",
            "__________________________________________________________________________________________________\n",
            "embedding_5 (Embedding)         (None, 1, 1)         1           input_5[0][0]                    \n",
            "__________________________________________________________________________________________________\n",
            "embedding_6 (Embedding)         (None, 1, 1)         1           input_6[0][0]                    \n",
            "__________________________________________________________________________________________________\n",
            "reshape_1 (Reshape)             (None, 1)            0           embedding_1[0][0]                \n",
            "__________________________________________________________________________________________________\n",
            "reshape_2 (Reshape)             (None, 50)           0           embedding_2[0][0]                \n",
            "__________________________________________________________________________________________________\n",
            "reshape_3 (Reshape)             (None, 6)            0           embedding_3[0][0]                \n",
            "__________________________________________________________________________________________________\n",
            "reshape_4 (Reshape)             (None, 7)            0           embedding_4[0][0]                \n",
            "__________________________________________________________________________________________________\n",
            "reshape_5 (Reshape)             (None, 1)            0           embedding_5[0][0]                \n",
            "__________________________________________________________________________________________________\n",
            "reshape_6 (Reshape)             (None, 1)            0           embedding_6[0][0]                \n",
            "__________________________________________________________________________________________________\n",
            "input_7 (InputLayer)            (None, 1)            0                                            \n",
            "__________________________________________________________________________________________________\n",
            "input_8 (InputLayer)            (None, 1)            0                                            \n",
            "__________________________________________________________________________________________________\n",
            "input_9 (InputLayer)            (None, 1)            0                                            \n",
            "__________________________________________________________________________________________________\n",
            "concatenate_3 (Concatenate)     (None, 69)           0           reshape_1[0][0]                  \n",
            "                                                                 reshape_2[0][0]                  \n",
            "                                                                 reshape_3[0][0]                  \n",
            "                                                                 reshape_4[0][0]                  \n",
            "                                                                 reshape_5[0][0]                  \n",
            "                                                                 reshape_6[0][0]                  \n",
            "                                                                 input_7[0][0]                    \n",
            "                                                                 input_8[0][0]                    \n",
            "                                                                 input_9[0][0]                    \n",
            "__________________________________________________________________________________________________\n",
            "dropout_4 (Dropout)             (None, 69)           0           concatenate_3[0][0]              \n",
            "__________________________________________________________________________________________________\n",
            "dense_5 (Dense)                 (None, 256)          17920       dropout_4[0][0]                  \n",
            "__________________________________________________________________________________________________\n",
            "dropout_5 (Dropout)             (None, 256)          0           dense_5[0][0]                    \n",
            "__________________________________________________________________________________________________\n",
            "dense_6 (Dense)                 (None, 128)          32896       dropout_5[0][0]                  \n",
            "__________________________________________________________________________________________________\n",
            "dropout_6 (Dropout)             (None, 128)          0           dense_6[0][0]                    \n",
            "__________________________________________________________________________________________________\n",
            "dense_7 (Dense)                 (None, 64)           8256        dropout_6[0][0]                  \n",
            "__________________________________________________________________________________________________\n",
            "dense_8 (Dense)                 (None, 1)            65          dense_7[0][0]                    \n",
            "==================================================================================================\n",
            "Total params: 314,826\n",
            "Trainable params: 314,826\n",
            "Non-trainable params: 0\n",
            "__________________________________________________________________________________________________\n"
          ],
          "name": "stdout"
        }
      ]
    },
    {
      "cell_type": "code",
      "metadata": {
        "id": "qj7-KJGd0q1o",
        "colab_type": "code",
        "colab": {
          "base_uri": "https://localhost:8080/",
          "height": 287
        },
        "outputId": "d817e5da-afe9-429c-f3f4-b4ad4500fe4f"
      },
      "source": [
        "from sklearn.model_selection import KFold,StratifiedKFold\n",
        "from keras.callbacks import *\n",
        "\n",
        "checkpoint_path = os.getcwd()\n",
        "checkpoint_dir = os.path.dirname(checkpoint_path)\n",
        "checkpoint = ModelCheckpoint(filepath='best_model_weights_run1.h5',save_weights_only=True,verbose=1)\n",
        "early_stop = EarlyStopping(monitor='val_loss', patience=3)\n",
        "tensor_board = TensorBoard(log_dir= checkpoint_path)\n",
        "history = History()\n",
        "features = processed_data.columns\n",
        "kf = StratifiedKFold(n_splits=5,random_state=42)\n",
        "kf = KFold(n_splits=5,random_state=42)\n",
        "for tr_ind,val_ind in kf.split(processed_data,target):\n",
        "    X_train,X_val,y_train,y_val = processed_data.iloc[tr_ind],processed_data.iloc[val_ind],target[tr_ind],target[val_ind]\n",
        "    X_trainA = []\n",
        "    for cat in cat_features:\n",
        "        X_trainA.append(np.array(X_train[cat]).reshape(-1,1))\n",
        "    X_valA = []\n",
        "    for cat in cat_features:\n",
        "        X_valA.append(np.array(X_val[cat]).reshape(-1,1))\n",
        "    history = model.fit(X_trainA,y_train,epochs=3,validation_data=[X_valA,y_val],callbacks=[checkpoint, early_stop],verbose=1) #set_callbacks())\n",
        "    break"
      ],
      "execution_count": 24,
      "outputs": [
        {
          "output_type": "stream",
          "text": [
            "/usr/local/lib/python3.6/dist-packages/sklearn/model_selection/_split.py:296: FutureWarning: Setting a random_state has no effect since shuffle is False. This will raise an error in 0.24. You should leave random_state to its default (None), or set shuffle=True.\n",
            "  FutureWarning\n"
          ],
          "name": "stderr"
        },
        {
          "output_type": "stream",
          "text": [
            "Train on 1287299 samples, validate on 321825 samples\n",
            "Epoch 1/3\n",
            "1287299/1287299 [==============================] - 261s 203us/step - loss: 2752.0870 - acc: 0.1928 - val_loss: 23.0062 - val_acc: 0.1568\n",
            "\n",
            "Epoch 00001: saving model to best_model_weights_run1.h5\n",
            "Epoch 2/3\n",
            "1287299/1287299 [==============================] - 258s 201us/step - loss: 85.0670 - acc: 0.1666 - val_loss: 23.2408 - val_acc: 0.0616\n",
            "\n",
            "Epoch 00002: saving model to best_model_weights_run1.h5\n",
            "Epoch 3/3\n",
            "1287299/1287299 [==============================] - 257s 200us/step - loss: 89.7989 - acc: 0.1752 - val_loss: 22.9531 - val_acc: 0.1437\n",
            "\n",
            "Epoch 00003: saving model to best_model_weights_run1.h5\n"
          ],
          "name": "stdout"
        }
      ]
    },
    {
      "cell_type": "code",
      "metadata": {
        "id": "vRTfI5zp0tN1",
        "colab_type": "code",
        "colab": {
          "base_uri": "https://localhost:8080/",
          "height": 137
        },
        "outputId": "f16f28ba-d266-44f7-fbc7-acdc2bbdd5b0"
      },
      "source": [
        "type(history.history)\n",
        "hist= pd.DataFrame(history.history)\n",
        "hist['epoch'] = history.epoch\n",
        "hist"
      ],
      "execution_count": 25,
      "outputs": [
        {
          "output_type": "execute_result",
          "data": {
            "text/html": [
              "<div>\n",
              "<style scoped>\n",
              "    .dataframe tbody tr th:only-of-type {\n",
              "        vertical-align: middle;\n",
              "    }\n",
              "\n",
              "    .dataframe tbody tr th {\n",
              "        vertical-align: top;\n",
              "    }\n",
              "\n",
              "    .dataframe thead th {\n",
              "        text-align: right;\n",
              "    }\n",
              "</style>\n",
              "<table border=\"1\" class=\"dataframe\">\n",
              "  <thead>\n",
              "    <tr style=\"text-align: right;\">\n",
              "      <th></th>\n",
              "      <th>val_loss</th>\n",
              "      <th>val_acc</th>\n",
              "      <th>loss</th>\n",
              "      <th>acc</th>\n",
              "      <th>epoch</th>\n",
              "    </tr>\n",
              "  </thead>\n",
              "  <tbody>\n",
              "    <tr>\n",
              "      <th>0</th>\n",
              "      <td>23.006240</td>\n",
              "      <td>0.156793</td>\n",
              "      <td>2752.086952</td>\n",
              "      <td>0.192802</td>\n",
              "      <td>0</td>\n",
              "    </tr>\n",
              "    <tr>\n",
              "      <th>1</th>\n",
              "      <td>23.240826</td>\n",
              "      <td>0.061633</td>\n",
              "      <td>85.067027</td>\n",
              "      <td>0.166633</td>\n",
              "      <td>1</td>\n",
              "    </tr>\n",
              "    <tr>\n",
              "      <th>2</th>\n",
              "      <td>22.953063</td>\n",
              "      <td>0.143740</td>\n",
              "      <td>89.798896</td>\n",
              "      <td>0.175163</td>\n",
              "      <td>2</td>\n",
              "    </tr>\n",
              "  </tbody>\n",
              "</table>\n",
              "</div>"
            ],
            "text/plain": [
              "    val_loss   val_acc         loss       acc  epoch\n",
              "0  23.006240  0.156793  2752.086952  0.192802      0\n",
              "1  23.240826  0.061633    85.067027  0.166633      1\n",
              "2  22.953063  0.143740    89.798896  0.175163      2"
            ]
          },
          "metadata": {
            "tags": []
          },
          "execution_count": 25
        }
      ]
    },
    {
      "cell_type": "code",
      "metadata": {
        "id": "x8-nszrg2H12",
        "colab_type": "code",
        "colab": {}
      },
      "source": [
        "processed_data1 = processed_data.year.astype(str).str.get_dummies()\n",
        "processed_data1.columns = ['year' + str(x) for x in processed_data1.columns]\n",
        "processed_data = processed_data.drop(['year'], axis=1)\n",
        "processed_data = pd.concat([processed_data,processed_data1], axis=1)\n"
      ],
      "execution_count": 0,
      "outputs": []
    },
    {
      "cell_type": "code",
      "metadata": {
        "id": "ek1CPrMp2I3p",
        "colab_type": "code",
        "colab": {}
      },
      "source": [
        "msk = np.random.rand(len(processed_data)) < 0.8\n",
        "X_train = processed_data[msk]\n",
        "y_train = target[msk]\n",
        "X_test = processed_data[~msk]\n",
        "y_test = target[~msk]"
      ],
      "execution_count": 0,
      "outputs": []
    },
    {
      "cell_type": "code",
      "metadata": {
        "id": "G1sJUkju2LwU",
        "colab_type": "code",
        "colab": {}
      },
      "source": [
        "from sklearn.tree import DecisionTreeClassifier\n",
        "clf = DecisionTreeClassifier(random_state=0).fit(X_train,y_train) \n",
        "pred = clf.predict(X_test)"
      ],
      "execution_count": 0,
      "outputs": []
    },
    {
      "cell_type": "code",
      "metadata": {
        "id": "WzpAGwZ52Oo4",
        "colab_type": "code",
        "colab": {
          "base_uri": "https://localhost:8080/",
          "height": 33
        },
        "outputId": "0ac1a45f-4ea5-4d7a-9525-e947ea59f58c"
      },
      "source": [
        "from sklearn.metrics import accuracy_score\n",
        "accuracy_score(y_test, pred)"
      ],
      "execution_count": 17,
      "outputs": [
        {
          "output_type": "execute_result",
          "data": {
            "text/plain": [
              "0.5430822056150273"
            ]
          },
          "metadata": {
            "tags": []
          },
          "execution_count": 17
        }
      ]
    }
  ]
}